{
 "cells": [
  {
   "cell_type": "markdown",
   "id": "86a41bfb",
   "metadata": {},
   "source": [
    "## Image classification using CNN (CIFAR10 dataset) deep learning with Tensorflow & Python\n"
   ]
  },
  {
   "cell_type": "markdown",
   "id": "0c3fd835",
   "metadata": {},
   "source": [
    "### Importing the libraries"
   ]
  },
  {
   "cell_type": "code",
   "execution_count": null,
   "id": "c3e20e8c",
   "metadata": {},
   "outputs": [],
   "source": [
    "import tensorflow as tf\n",
    "from tensorflow.keras import datasets, layers, models\n",
    "import matplotlib.pyplot as plt\n",
    "import numpy as np\n"
   ]
  },
  {
   "cell_type": "markdown",
   "id": "e8b00bd8",
   "metadata": {},
   "source": [
    "### Part 1 - Data Preprocessing"
   ]
  },
  {
   "cell_type": "code",
   "execution_count": null,
   "id": "5a698823",
   "metadata": {},
   "outputs": [],
   "source": []
  },
  {
   "cell_type": "code",
   "execution_count": 2,
   "id": "e5e63c19",
   "metadata": {},
   "outputs": [
    {
     "data": {
      "text/plain": [
       "((array([[[[ 59,  62,  63],\n",
       "           [ 43,  46,  45],\n",
       "           [ 50,  48,  43],\n",
       "           ...,\n",
       "           [158, 132, 108],\n",
       "           [152, 125, 102],\n",
       "           [148, 124, 103]],\n",
       "  \n",
       "          [[ 16,  20,  20],\n",
       "           [  0,   0,   0],\n",
       "           [ 18,   8,   0],\n",
       "           ...,\n",
       "           [123,  88,  55],\n",
       "           [119,  83,  50],\n",
       "           [122,  87,  57]],\n",
       "  \n",
       "          [[ 25,  24,  21],\n",
       "           [ 16,   7,   0],\n",
       "           [ 49,  27,   8],\n",
       "           ...,\n",
       "           [118,  84,  50],\n",
       "           [120,  84,  50],\n",
       "           [109,  73,  42]],\n",
       "  \n",
       "          ...,\n",
       "  \n",
       "          [[208, 170,  96],\n",
       "           [201, 153,  34],\n",
       "           [198, 161,  26],\n",
       "           ...,\n",
       "           [160, 133,  70],\n",
       "           [ 56,  31,   7],\n",
       "           [ 53,  34,  20]],\n",
       "  \n",
       "          [[180, 139,  96],\n",
       "           [173, 123,  42],\n",
       "           [186, 144,  30],\n",
       "           ...,\n",
       "           [184, 148,  94],\n",
       "           [ 97,  62,  34],\n",
       "           [ 83,  53,  34]],\n",
       "  \n",
       "          [[177, 144, 116],\n",
       "           [168, 129,  94],\n",
       "           [179, 142,  87],\n",
       "           ...,\n",
       "           [216, 184, 140],\n",
       "           [151, 118,  84],\n",
       "           [123,  92,  72]]],\n",
       "  \n",
       "  \n",
       "         [[[154, 177, 187],\n",
       "           [126, 137, 136],\n",
       "           [105, 104,  95],\n",
       "           ...,\n",
       "           [ 91,  95,  71],\n",
       "           [ 87,  90,  71],\n",
       "           [ 79,  81,  70]],\n",
       "  \n",
       "          [[140, 160, 169],\n",
       "           [145, 153, 154],\n",
       "           [125, 125, 118],\n",
       "           ...,\n",
       "           [ 96,  99,  78],\n",
       "           [ 77,  80,  62],\n",
       "           [ 71,  73,  61]],\n",
       "  \n",
       "          [[140, 155, 164],\n",
       "           [139, 146, 149],\n",
       "           [115, 115, 112],\n",
       "           ...,\n",
       "           [ 79,  82,  64],\n",
       "           [ 68,  70,  55],\n",
       "           [ 67,  69,  55]],\n",
       "  \n",
       "          ...,\n",
       "  \n",
       "          [[175, 167, 166],\n",
       "           [156, 154, 160],\n",
       "           [154, 160, 170],\n",
       "           ...,\n",
       "           [ 42,  34,  36],\n",
       "           [ 61,  53,  57],\n",
       "           [ 93,  83,  91]],\n",
       "  \n",
       "          [[165, 154, 128],\n",
       "           [156, 152, 130],\n",
       "           [159, 161, 142],\n",
       "           ...,\n",
       "           [103,  93,  96],\n",
       "           [123, 114, 120],\n",
       "           [131, 121, 131]],\n",
       "  \n",
       "          [[163, 148, 120],\n",
       "           [158, 148, 122],\n",
       "           [163, 156, 133],\n",
       "           ...,\n",
       "           [143, 133, 139],\n",
       "           [143, 134, 142],\n",
       "           [143, 133, 144]]],\n",
       "  \n",
       "  \n",
       "         [[[255, 255, 255],\n",
       "           [253, 253, 253],\n",
       "           [253, 253, 253],\n",
       "           ...,\n",
       "           [253, 253, 253],\n",
       "           [253, 253, 253],\n",
       "           [253, 253, 253]],\n",
       "  \n",
       "          [[255, 255, 255],\n",
       "           [255, 255, 255],\n",
       "           [255, 255, 255],\n",
       "           ...,\n",
       "           [255, 255, 255],\n",
       "           [255, 255, 255],\n",
       "           [255, 255, 255]],\n",
       "  \n",
       "          [[255, 255, 255],\n",
       "           [254, 254, 254],\n",
       "           [254, 254, 254],\n",
       "           ...,\n",
       "           [254, 254, 254],\n",
       "           [254, 254, 254],\n",
       "           [254, 254, 254]],\n",
       "  \n",
       "          ...,\n",
       "  \n",
       "          [[113, 120, 112],\n",
       "           [111, 118, 111],\n",
       "           [105, 112, 106],\n",
       "           ...,\n",
       "           [ 72,  81,  80],\n",
       "           [ 72,  80,  79],\n",
       "           [ 72,  80,  79]],\n",
       "  \n",
       "          [[111, 118, 110],\n",
       "           [104, 111, 104],\n",
       "           [ 99, 106,  98],\n",
       "           ...,\n",
       "           [ 68,  75,  73],\n",
       "           [ 70,  76,  75],\n",
       "           [ 78,  84,  82]],\n",
       "  \n",
       "          [[106, 113, 105],\n",
       "           [ 99, 106,  98],\n",
       "           [ 95, 102,  94],\n",
       "           ...,\n",
       "           [ 78,  85,  83],\n",
       "           [ 79,  85,  83],\n",
       "           [ 80,  86,  84]]],\n",
       "  \n",
       "  \n",
       "         ...,\n",
       "  \n",
       "  \n",
       "         [[[ 35, 178, 235],\n",
       "           [ 40, 176, 239],\n",
       "           [ 42, 176, 241],\n",
       "           ...,\n",
       "           [ 99, 177, 219],\n",
       "           [ 79, 147, 197],\n",
       "           [ 89, 148, 189]],\n",
       "  \n",
       "          [[ 57, 182, 234],\n",
       "           [ 44, 184, 250],\n",
       "           [ 50, 183, 240],\n",
       "           ...,\n",
       "           [156, 182, 200],\n",
       "           [141, 177, 206],\n",
       "           [116, 149, 175]],\n",
       "  \n",
       "          [[ 98, 197, 237],\n",
       "           [ 64, 189, 252],\n",
       "           [ 69, 192, 245],\n",
       "           ...,\n",
       "           [188, 195, 206],\n",
       "           [119, 135, 147],\n",
       "           [ 61,  79,  90]],\n",
       "  \n",
       "          ...,\n",
       "  \n",
       "          [[ 73,  79,  77],\n",
       "           [ 53,  63,  68],\n",
       "           [ 54,  68,  80],\n",
       "           ...,\n",
       "           [ 17,  40,  64],\n",
       "           [ 21,  36,  51],\n",
       "           [ 33,  48,  49]],\n",
       "  \n",
       "          [[ 61,  68,  75],\n",
       "           [ 55,  70,  86],\n",
       "           [ 57,  79, 103],\n",
       "           ...,\n",
       "           [ 24,  48,  72],\n",
       "           [ 17,  35,  53],\n",
       "           [  7,  23,  32]],\n",
       "  \n",
       "          [[ 44,  56,  73],\n",
       "           [ 46,  66,  88],\n",
       "           [ 49,  77, 105],\n",
       "           ...,\n",
       "           [ 27,  52,  77],\n",
       "           [ 21,  43,  66],\n",
       "           [ 12,  31,  50]]],\n",
       "  \n",
       "  \n",
       "         [[[189, 211, 240],\n",
       "           [186, 208, 236],\n",
       "           [185, 207, 235],\n",
       "           ...,\n",
       "           [175, 195, 224],\n",
       "           [172, 194, 222],\n",
       "           [169, 194, 220]],\n",
       "  \n",
       "          [[194, 210, 239],\n",
       "           [191, 207, 236],\n",
       "           [190, 206, 235],\n",
       "           ...,\n",
       "           [173, 192, 220],\n",
       "           [171, 191, 218],\n",
       "           [167, 190, 216]],\n",
       "  \n",
       "          [[208, 219, 244],\n",
       "           [205, 216, 240],\n",
       "           [204, 215, 239],\n",
       "           ...,\n",
       "           [175, 191, 217],\n",
       "           [172, 190, 216],\n",
       "           [169, 191, 215]],\n",
       "  \n",
       "          ...,\n",
       "  \n",
       "          [[207, 199, 181],\n",
       "           [203, 195, 175],\n",
       "           [203, 196, 173],\n",
       "           ...,\n",
       "           [135, 132, 127],\n",
       "           [162, 158, 150],\n",
       "           [168, 163, 151]],\n",
       "  \n",
       "          [[198, 190, 170],\n",
       "           [189, 181, 159],\n",
       "           [180, 172, 147],\n",
       "           ...,\n",
       "           [178, 171, 160],\n",
       "           [175, 169, 156],\n",
       "           [175, 169, 154]],\n",
       "  \n",
       "          [[198, 189, 173],\n",
       "           [189, 181, 162],\n",
       "           [178, 170, 149],\n",
       "           ...,\n",
       "           [195, 184, 169],\n",
       "           [196, 189, 171],\n",
       "           [195, 190, 171]]],\n",
       "  \n",
       "  \n",
       "         [[[229, 229, 239],\n",
       "           [236, 237, 247],\n",
       "           [234, 236, 247],\n",
       "           ...,\n",
       "           [217, 219, 233],\n",
       "           [221, 223, 234],\n",
       "           [222, 223, 233]],\n",
       "  \n",
       "          [[222, 221, 229],\n",
       "           [239, 239, 249],\n",
       "           [233, 234, 246],\n",
       "           ...,\n",
       "           [223, 223, 236],\n",
       "           [227, 228, 238],\n",
       "           [210, 211, 220]],\n",
       "  \n",
       "          [[213, 206, 211],\n",
       "           [234, 232, 239],\n",
       "           [231, 233, 244],\n",
       "           ...,\n",
       "           [220, 220, 232],\n",
       "           [220, 219, 232],\n",
       "           [202, 203, 215]],\n",
       "  \n",
       "          ...,\n",
       "  \n",
       "          [[150, 143, 135],\n",
       "           [140, 135, 127],\n",
       "           [132, 127, 120],\n",
       "           ...,\n",
       "           [224, 222, 218],\n",
       "           [230, 228, 225],\n",
       "           [241, 241, 238]],\n",
       "  \n",
       "          [[137, 132, 126],\n",
       "           [130, 127, 120],\n",
       "           [125, 121, 115],\n",
       "           ...,\n",
       "           [181, 180, 178],\n",
       "           [202, 201, 198],\n",
       "           [212, 211, 207]],\n",
       "  \n",
       "          [[122, 119, 114],\n",
       "           [118, 116, 110],\n",
       "           [120, 116, 111],\n",
       "           ...,\n",
       "           [179, 177, 173],\n",
       "           [164, 164, 162],\n",
       "           [163, 163, 161]]]], dtype=uint8),\n",
       "  array([[6],\n",
       "         [9],\n",
       "         [9],\n",
       "         ...,\n",
       "         [9],\n",
       "         [1],\n",
       "         [1]], dtype=uint8)),\n",
       " (array([[[[158, 112,  49],\n",
       "           [159, 111,  47],\n",
       "           [165, 116,  51],\n",
       "           ...,\n",
       "           [137,  95,  36],\n",
       "           [126,  91,  36],\n",
       "           [116,  85,  33]],\n",
       "  \n",
       "          [[152, 112,  51],\n",
       "           [151, 110,  40],\n",
       "           [159, 114,  45],\n",
       "           ...,\n",
       "           [136,  95,  31],\n",
       "           [125,  91,  32],\n",
       "           [119,  88,  34]],\n",
       "  \n",
       "          [[151, 110,  47],\n",
       "           [151, 109,  33],\n",
       "           [158, 111,  36],\n",
       "           ...,\n",
       "           [139,  98,  34],\n",
       "           [130,  95,  34],\n",
       "           [120,  89,  33]],\n",
       "  \n",
       "          ...,\n",
       "  \n",
       "          [[ 68, 124, 177],\n",
       "           [ 42, 100, 148],\n",
       "           [ 31,  88, 137],\n",
       "           ...,\n",
       "           [ 38,  97, 146],\n",
       "           [ 13,  64, 108],\n",
       "           [ 40,  85, 127]],\n",
       "  \n",
       "          [[ 61, 116, 168],\n",
       "           [ 49, 102, 148],\n",
       "           [ 35,  85, 132],\n",
       "           ...,\n",
       "           [ 26,  82, 130],\n",
       "           [ 29,  82, 126],\n",
       "           [ 20,  64, 107]],\n",
       "  \n",
       "          [[ 54, 107, 160],\n",
       "           [ 56, 105, 149],\n",
       "           [ 45,  89, 132],\n",
       "           ...,\n",
       "           [ 24,  77, 124],\n",
       "           [ 34,  84, 129],\n",
       "           [ 21,  67, 110]]],\n",
       "  \n",
       "  \n",
       "         [[[235, 235, 235],\n",
       "           [231, 231, 231],\n",
       "           [232, 232, 232],\n",
       "           ...,\n",
       "           [233, 233, 233],\n",
       "           [233, 233, 233],\n",
       "           [232, 232, 232]],\n",
       "  \n",
       "          [[238, 238, 238],\n",
       "           [235, 235, 235],\n",
       "           [235, 235, 235],\n",
       "           ...,\n",
       "           [236, 236, 236],\n",
       "           [236, 236, 236],\n",
       "           [235, 235, 235]],\n",
       "  \n",
       "          [[237, 237, 237],\n",
       "           [234, 234, 234],\n",
       "           [234, 234, 234],\n",
       "           ...,\n",
       "           [235, 235, 235],\n",
       "           [235, 235, 235],\n",
       "           [234, 234, 234]],\n",
       "  \n",
       "          ...,\n",
       "  \n",
       "          [[ 87,  99,  89],\n",
       "           [ 43,  51,  37],\n",
       "           [ 19,  23,  11],\n",
       "           ...,\n",
       "           [169, 184, 179],\n",
       "           [182, 197, 193],\n",
       "           [188, 202, 201]],\n",
       "  \n",
       "          [[ 82,  96,  82],\n",
       "           [ 46,  57,  36],\n",
       "           [ 36,  44,  22],\n",
       "           ...,\n",
       "           [174, 189, 183],\n",
       "           [185, 200, 196],\n",
       "           [187, 202, 200]],\n",
       "  \n",
       "          [[ 85, 101,  83],\n",
       "           [ 62,  75,  48],\n",
       "           [ 58,  67,  38],\n",
       "           ...,\n",
       "           [168, 183, 178],\n",
       "           [180, 195, 191],\n",
       "           [186, 200, 199]]],\n",
       "  \n",
       "  \n",
       "         [[[158, 190, 222],\n",
       "           [158, 187, 218],\n",
       "           [139, 166, 194],\n",
       "           ...,\n",
       "           [228, 231, 234],\n",
       "           [237, 239, 243],\n",
       "           [238, 241, 246]],\n",
       "  \n",
       "          [[170, 200, 229],\n",
       "           [172, 199, 226],\n",
       "           [151, 176, 201],\n",
       "           ...,\n",
       "           [232, 232, 236],\n",
       "           [246, 246, 250],\n",
       "           [246, 247, 251]],\n",
       "  \n",
       "          [[174, 201, 225],\n",
       "           [176, 200, 222],\n",
       "           [157, 179, 199],\n",
       "           ...,\n",
       "           [230, 229, 232],\n",
       "           [250, 249, 251],\n",
       "           [245, 244, 247]],\n",
       "  \n",
       "          ...,\n",
       "  \n",
       "          [[ 31,  40,  45],\n",
       "           [ 30,  39,  44],\n",
       "           [ 26,  35,  40],\n",
       "           ...,\n",
       "           [ 37,  40,  46],\n",
       "           [  9,  13,  14],\n",
       "           [  4,   7,   5]],\n",
       "  \n",
       "          [[ 23,  34,  39],\n",
       "           [ 27,  38,  43],\n",
       "           [ 25,  36,  41],\n",
       "           ...,\n",
       "           [ 19,  20,  24],\n",
       "           [  4,   6,   3],\n",
       "           [  5,   7,   3]],\n",
       "  \n",
       "          [[ 28,  41,  47],\n",
       "           [ 30,  43,  50],\n",
       "           [ 32,  45,  52],\n",
       "           ...,\n",
       "           [  5,   6,   8],\n",
       "           [  4,   5,   3],\n",
       "           [  7,   8,   7]]],\n",
       "  \n",
       "  \n",
       "         ...,\n",
       "  \n",
       "  \n",
       "         [[[ 20,  15,  12],\n",
       "           [ 19,  14,  11],\n",
       "           [ 15,  14,  11],\n",
       "           ...,\n",
       "           [ 10,   9,   7],\n",
       "           [ 12,  11,   9],\n",
       "           [ 13,  12,  10]],\n",
       "  \n",
       "          [[ 21,  16,  13],\n",
       "           [ 20,  16,  13],\n",
       "           [ 18,  17,  12],\n",
       "           ...,\n",
       "           [ 10,   9,   7],\n",
       "           [ 10,   9,   7],\n",
       "           [ 12,  11,   9]],\n",
       "  \n",
       "          [[ 21,  16,  13],\n",
       "           [ 21,  17,  12],\n",
       "           [ 20,  18,  11],\n",
       "           ...,\n",
       "           [ 12,  11,   9],\n",
       "           [ 12,  11,   9],\n",
       "           [ 13,  12,  10]],\n",
       "  \n",
       "          ...,\n",
       "  \n",
       "          [[ 33,  25,  13],\n",
       "           [ 34,  26,  15],\n",
       "           [ 34,  26,  15],\n",
       "           ...,\n",
       "           [ 28,  25,  52],\n",
       "           [ 29,  25,  58],\n",
       "           [ 23,  20,  42]],\n",
       "  \n",
       "          [[ 33,  25,  14],\n",
       "           [ 34,  26,  15],\n",
       "           [ 34,  26,  15],\n",
       "           ...,\n",
       "           [ 27,  24,  52],\n",
       "           [ 27,  24,  56],\n",
       "           [ 25,  22,  47]],\n",
       "  \n",
       "          [[ 31,  23,  12],\n",
       "           [ 32,  24,  13],\n",
       "           [ 33,  25,  14],\n",
       "           ...,\n",
       "           [ 24,  23,  50],\n",
       "           [ 26,  23,  53],\n",
       "           [ 25,  20,  47]]],\n",
       "  \n",
       "  \n",
       "         [[[ 25,  40,  12],\n",
       "           [ 15,  36,   3],\n",
       "           [ 23,  41,  18],\n",
       "           ...,\n",
       "           [ 61,  82,  78],\n",
       "           [ 92, 113, 112],\n",
       "           [ 75,  89,  92]],\n",
       "  \n",
       "          [[ 12,  25,   6],\n",
       "           [ 20,  37,   7],\n",
       "           [ 24,  36,  15],\n",
       "           ...,\n",
       "           [115, 134, 138],\n",
       "           [149, 168, 177],\n",
       "           [104, 117, 131]],\n",
       "  \n",
       "          [[ 12,  25,  11],\n",
       "           [ 15,  29,   6],\n",
       "           [ 34,  40,  24],\n",
       "           ...,\n",
       "           [154, 172, 182],\n",
       "           [157, 175, 192],\n",
       "           [116, 129, 151]],\n",
       "  \n",
       "          ...,\n",
       "  \n",
       "          [[100, 129,  81],\n",
       "           [103, 132,  84],\n",
       "           [104, 134,  86],\n",
       "           ...,\n",
       "           [ 97, 128,  84],\n",
       "           [ 98, 126,  84],\n",
       "           [ 91, 121,  79]],\n",
       "  \n",
       "          [[103, 132,  83],\n",
       "           [104, 131,  83],\n",
       "           [107, 135,  87],\n",
       "           ...,\n",
       "           [101, 132,  87],\n",
       "           [ 99, 127,  84],\n",
       "           [ 92, 121,  79]],\n",
       "  \n",
       "          [[ 95, 126,  78],\n",
       "           [ 95, 123,  76],\n",
       "           [101, 128,  81],\n",
       "           ...,\n",
       "           [ 93, 124,  80],\n",
       "           [ 95, 123,  81],\n",
       "           [ 92, 120,  80]]],\n",
       "  \n",
       "  \n",
       "         [[[ 73,  78,  75],\n",
       "           [ 98, 103, 113],\n",
       "           [ 99, 106, 114],\n",
       "           ...,\n",
       "           [135, 150, 152],\n",
       "           [135, 149, 154],\n",
       "           [203, 215, 223]],\n",
       "  \n",
       "          [[ 69,  73,  70],\n",
       "           [ 84,  89,  97],\n",
       "           [ 68,  75,  81],\n",
       "           ...,\n",
       "           [ 85,  95,  89],\n",
       "           [ 71,  82,  80],\n",
       "           [120, 133, 135]],\n",
       "  \n",
       "          [[ 69,  73,  70],\n",
       "           [ 90,  95, 100],\n",
       "           [ 62,  71,  74],\n",
       "           ...,\n",
       "           [ 74,  81,  70],\n",
       "           [ 53,  62,  54],\n",
       "           [ 62,  74,  69]],\n",
       "  \n",
       "          ...,\n",
       "  \n",
       "          [[123, 128,  96],\n",
       "           [132, 132, 102],\n",
       "           [129, 128, 100],\n",
       "           ...,\n",
       "           [108, 107,  88],\n",
       "           [ 62,  60,  55],\n",
       "           [ 27,  27,  28]],\n",
       "  \n",
       "          [[115, 121,  91],\n",
       "           [123, 124,  95],\n",
       "           [129, 126,  99],\n",
       "           ...,\n",
       "           [115, 116,  94],\n",
       "           [ 66,  65,  59],\n",
       "           [ 27,  27,  27]],\n",
       "  \n",
       "          [[116, 120,  90],\n",
       "           [121, 122,  94],\n",
       "           [129, 128, 101],\n",
       "           ...,\n",
       "           [116, 115,  94],\n",
       "           [ 68,  65,  58],\n",
       "           [ 27,  26,  26]]]], dtype=uint8),\n",
       "  array([[3],\n",
       "         [8],\n",
       "         [8],\n",
       "         ...,\n",
       "         [5],\n",
       "         [1],\n",
       "         [7]], dtype=uint8)))"
      ]
     },
     "execution_count": 2,
     "metadata": {},
     "output_type": "execute_result"
    }
   ],
   "source": [
    "datasets.cifar10.load_data()"
   ]
  },
  {
   "cell_type": "code",
   "execution_count": 3,
   "id": "d261152d",
   "metadata": {},
   "outputs": [],
   "source": [
    "data = datasets.cifar10.load_data()"
   ]
  },
  {
   "cell_type": "code",
   "execution_count": 4,
   "id": "7b601333",
   "metadata": {},
   "outputs": [],
   "source": [
    "(X_train,y_train),(X_test,y_test)=data"
   ]
  },
  {
   "cell_type": "code",
   "execution_count": 5,
   "id": "ee22f0ee",
   "metadata": {},
   "outputs": [
    {
     "data": {
      "text/plain": [
       "(50000, 32, 32, 3)"
      ]
     },
     "execution_count": 5,
     "metadata": {},
     "output_type": "execute_result"
    }
   ],
   "source": [
    "X_train.shape"
   ]
  },
  {
   "cell_type": "code",
   "execution_count": 6,
   "id": "aaaa9795",
   "metadata": {},
   "outputs": [
    {
     "data": {
      "text/plain": [
       "(10000, 32, 32, 3)"
      ]
     },
     "execution_count": 6,
     "metadata": {},
     "output_type": "execute_result"
    }
   ],
   "source": [
    "X_test.shape"
   ]
  },
  {
   "cell_type": "code",
   "execution_count": 7,
   "id": "f5a55715",
   "metadata": {},
   "outputs": [
    {
     "data": {
      "text/plain": [
       "array([[6],\n",
       "       [9],\n",
       "       [9],\n",
       "       [4],\n",
       "       [1]], dtype=uint8)"
      ]
     },
     "execution_count": 7,
     "metadata": {},
     "output_type": "execute_result"
    }
   ],
   "source": [
    "y_train[:5]"
   ]
  },
  {
   "cell_type": "code",
   "execution_count": 8,
   "id": "397a482d",
   "metadata": {},
   "outputs": [
    {
     "data": {
      "text/plain": [
       "array([6, 9, 9, 4, 1], dtype=uint8)"
      ]
     },
     "execution_count": 8,
     "metadata": {},
     "output_type": "execute_result"
    }
   ],
   "source": [
    "y_train=y_train.reshape(-1,)\n",
    "y_train[:5]"
   ]
  },
  {
   "cell_type": "code",
   "execution_count": 9,
   "id": "054a7eb2",
   "metadata": {},
   "outputs": [],
   "source": [
    "X_train=X_train/255\n",
    "X_test=X_test/255"
   ]
  },
  {
   "cell_type": "markdown",
   "id": "4adf4003",
   "metadata": {},
   "source": [
    "### Part 2 - Building the CNN"
   ]
  },
  {
   "cell_type": "markdown",
   "id": "31425d33",
   "metadata": {},
   "source": [
    "### Initialising the CNN"
   ]
  },
  {
   "cell_type": "code",
   "execution_count": 10,
   "id": "0981e8ed",
   "metadata": {},
   "outputs": [],
   "source": [
    "cnn = tf.keras.models.Sequential()\n"
   ]
  },
  {
   "cell_type": "markdown",
   "id": "e404190e",
   "metadata": {},
   "source": [
    "### Step 1 - Convolution"
   ]
  },
  {
   "cell_type": "markdown",
   "id": "c5f37c23",
   "metadata": {},
   "source": [
    "Pooling"
   ]
  },
  {
   "cell_type": "code",
   "execution_count": 11,
   "id": "37f520f2",
   "metadata": {},
   "outputs": [],
   "source": [
    "cnn.add(tf.keras.layers.Conv2D(filters=32, kernel_size=3, activation='relu', input_shape=[64, 64, 3]))\n",
    "\n",
    "#Step 2 - Pooling\n",
    "cnn.add(tf.keras.layers.MaxPool2D(pool_size=(2,2)))"
   ]
  },
  {
   "cell_type": "markdown",
   "id": "a667834a",
   "metadata": {},
   "source": [
    "### Adding a second convolutional layer"
   ]
  },
  {
   "cell_type": "code",
   "execution_count": 12,
   "id": "70a2f627",
   "metadata": {},
   "outputs": [],
   "source": [
    "cnn.add(tf.keras.layers.Conv2D(filters=32, kernel_size=3, activation='relu'))\n",
    "cnn.add(tf.keras.layers.MaxPool2D(pool_size=(2,2)))"
   ]
  },
  {
   "cell_type": "markdown",
   "id": "4affb871",
   "metadata": {},
   "source": [
    "### Step 3 - Flattening"
   ]
  },
  {
   "cell_type": "code",
   "execution_count": 13,
   "id": "2f313e3e",
   "metadata": {},
   "outputs": [],
   "source": [
    "cnn.add(tf.keras.layers.Flatten())"
   ]
  },
  {
   "cell_type": "markdown",
   "id": "7c9ca77b",
   "metadata": {},
   "source": [
    "### Step 4 - Full Connection"
   ]
  },
  {
   "cell_type": "code",
   "execution_count": 14,
   "id": "f0907162",
   "metadata": {},
   "outputs": [],
   "source": [
    "cnn.add(tf.keras.layers.Dense(units=32, activation='relu'))"
   ]
  },
  {
   "cell_type": "markdown",
   "id": "bd5f1661",
   "metadata": {},
   "source": [
    "### Step 5 - Output Layer"
   ]
  },
  {
   "cell_type": "code",
   "execution_count": 15,
   "id": "fdb3cd2f",
   "metadata": {},
   "outputs": [],
   "source": [
    "cnn.add(tf.keras.layers.Dense(units=32, activation='softmax'))"
   ]
  },
  {
   "cell_type": "markdown",
   "id": "f6dec279",
   "metadata": {},
   "source": [
    "### Compiling the CNN"
   ]
  },
  {
   "cell_type": "code",
   "execution_count": 16,
   "id": "7ae116fa",
   "metadata": {},
   "outputs": [],
   "source": [
    "cnn.compile(optimizer='adam',loss='SparseCategoricalCrossentropy', metrics=['accuracy'])"
   ]
  },
  {
   "cell_type": "markdown",
   "id": "3a80effe",
   "metadata": {},
   "source": [
    "### Training the CNN on the Training set and evaluating it on the Test set"
   ]
  },
  {
   "cell_type": "code",
   "execution_count": 20,
   "id": "7743cdf4",
   "metadata": {},
   "outputs": [
    {
     "name": "stdout",
     "output_type": "stream",
     "text": [
      "Epoch 1/10\n",
      "1563/1563 [==============================] - 65s 41ms/step - loss: 1.5038 - accuracy: 0.4545\n",
      "Epoch 2/10\n",
      "1563/1563 [==============================] - 63s 40ms/step - loss: 1.1268 - accuracy: 0.6042\n",
      "Epoch 3/10\n",
      "1563/1563 [==============================] - 64s 41ms/step - loss: 0.9872 - accuracy: 0.6574\n",
      "Epoch 4/10\n",
      "1563/1563 [==============================] - 62s 40ms/step - loss: 0.9023 - accuracy: 0.6857\n",
      "Epoch 5/10\n",
      "1563/1563 [==============================] - 64s 41ms/step - loss: 0.8402 - accuracy: 0.7072\n",
      "Epoch 6/10\n",
      "1563/1563 [==============================] - 62s 40ms/step - loss: 0.7902 - accuracy: 0.7269\n",
      "Epoch 7/10\n",
      "1563/1563 [==============================] - 60s 38ms/step - loss: 0.7370 - accuracy: 0.7435\n",
      "Epoch 8/10\n",
      "1563/1563 [==============================] - 60s 38ms/step - loss: 0.6942 - accuracy: 0.7590\n",
      "Epoch 9/10\n",
      "1563/1563 [==============================] - 53s 34ms/step - loss: 0.6507 - accuracy: 0.7722\n",
      "Epoch 10/10\n",
      "1563/1563 [==============================] - 53s 34ms/step - loss: 0.6121 - accuracy: 0.7860\n"
     ]
    },
    {
     "data": {
      "text/plain": [
       "<keras.callbacks.History at 0x1f9b7f0efd0>"
      ]
     },
     "execution_count": 20,
     "metadata": {},
     "output_type": "execute_result"
    }
   ],
   "source": [
    "cnn.fit(X_train, y_train, epochs=10)"
   ]
  },
  {
   "cell_type": "code",
   "execution_count": 22,
   "id": "09813924",
   "metadata": {},
   "outputs": [
    {
     "name": "stdout",
     "output_type": "stream",
     "text": [
      "313/313 [==============================] - 7s 15ms/step - loss: 1.1962 - accuracy: 0.6896\n"
     ]
    },
    {
     "data": {
      "text/plain": [
       "[1.1961989402770996, 0.6895999908447266]"
      ]
     },
     "execution_count": 22,
     "metadata": {},
     "output_type": "execute_result"
    }
   ],
   "source": [
    "cnn.evaluate(X_test,y_test)"
   ]
  },
  {
   "cell_type": "markdown",
   "id": "85a97a99",
   "metadata": {},
   "source": [
    "### Make Prediction"
   ]
  },
  {
   "cell_type": "code",
   "execution_count": 23,
   "id": "d2e2dbc8",
   "metadata": {},
   "outputs": [],
   "source": [
    "classes = [\"airplane\",\"automobile\",\"bird\",\"cat\",\"deer\",\"dog\",\"frog\",\"horse\",\"ship\",\"truck\"]"
   ]
  },
  {
   "cell_type": "code",
   "execution_count": 24,
   "id": "21de6d81",
   "metadata": {},
   "outputs": [],
   "source": [
    "def plot_sample(X, y, index):\n",
    "    plt.figure(figsize = (15,2))\n",
    "    plt.imshow(X[index])\n",
    "    plt.xlabel(classes[y[index]])"
   ]
  },
  {
   "cell_type": "code",
   "execution_count": 25,
   "id": "5afedf2b",
   "metadata": {},
   "outputs": [
    {
     "name": "stdout",
     "output_type": "stream",
     "text": [
      "313/313 [==============================] - 5s 15ms/step\n"
     ]
    },
    {
     "data": {
      "text/plain": [
       "array([[1.2600078e-10, 2.1498359e-09, 1.6329182e-06, 9.7088921e-01,\n",
       "        1.7980345e-07, 2.9082501e-02, 2.1676175e-05, 1.3662511e-08,\n",
       "        1.7366425e-07, 4.6103814e-06],\n",
       "       [4.4219462e-07, 2.5132740e-01, 1.1223616e-12, 7.8705084e-11,\n",
       "        1.9277293e-14, 9.8850159e-15, 3.1994634e-16, 4.5981696e-15,\n",
       "        7.4867171e-01, 4.2590909e-07],\n",
       "       [7.6760076e-02, 1.5683249e-02, 2.3926129e-06, 5.8896543e-04,\n",
       "        1.5319332e-05, 1.2654671e-04, 6.1915685e-05, 2.7218841e-05,\n",
       "        8.9437580e-01, 1.2358498e-02],\n",
       "       [9.5491368e-01, 3.5613331e-05, 2.8954414e-04, 8.6450695e-05,\n",
       "        9.7592519e-08, 2.6116217e-07, 6.5787376e-08, 6.6579803e-10,\n",
       "        4.4674218e-02, 5.2933830e-10],\n",
       "       [3.1173089e-10, 3.2301141e-06, 2.0083243e-03, 4.4079311e-03,\n",
       "        8.4541804e-01, 2.0773186e-04, 1.4795469e-01, 1.9606781e-09,\n",
       "        4.0123527e-09, 3.8262336e-09]], dtype=float32)"
      ]
     },
     "execution_count": 25,
     "metadata": {},
     "output_type": "execute_result"
    }
   ],
   "source": [
    "y_pred = cnn.predict(X_test)\n",
    "y_pred[:5]"
   ]
  },
  {
   "cell_type": "code",
   "execution_count": 26,
   "id": "7d35f673",
   "metadata": {},
   "outputs": [
    {
     "data": {
      "text/plain": [
       "[3, 8, 8, 0, 4]"
      ]
     },
     "execution_count": 26,
     "metadata": {},
     "output_type": "execute_result"
    }
   ],
   "source": [
    "y_classes = [np.argmax(element) for element in y_pred]\n",
    "y_classes[:5]"
   ]
  },
  {
   "cell_type": "code",
   "execution_count": 29,
   "id": "f2f3acc9",
   "metadata": {},
   "outputs": [
    {
     "data": {
      "text/plain": [
       "array([3, 8, 8, 0, 6], dtype=uint8)"
      ]
     },
     "execution_count": 29,
     "metadata": {},
     "output_type": "execute_result"
    }
   ],
   "source": [
    "y_test=y_test.reshape(-1,)\n",
    "y_test[:5]"
   ]
  },
  {
   "cell_type": "code",
   "execution_count": 30,
   "id": "e646afaa",
   "metadata": {},
   "outputs": [
    {
     "data": {
      "text/plain": [
       "array([3, 8, 8, 0, 6], dtype=uint8)"
      ]
     },
     "execution_count": 30,
     "metadata": {},
     "output_type": "execute_result"
    }
   ],
   "source": [
    "y_test[:5]"
   ]
  },
  {
   "cell_type": "code",
   "execution_count": 31,
   "id": "2ea90a85",
   "metadata": {},
   "outputs": [
    {
     "data": {
      "image/png": "[encoded data removed]",
      "text/plain": [
       "<Figure size 1080x144 with 1 Axes>"
      ]
     },
     "metadata": {
      "needs_background": "light"
     },
     "output_type": "display_data"
    }
   ],
   "source": [
    "plot_sample(X_test, y_test,3)"
   ]
  },
  {
   "cell_type": "code",
   "execution_count": 32,
   "id": "3134029f",
   "metadata": {},
   "outputs": [
    {
     "data": {
      "text/plain": [
       "'airplane'"
      ]
     },
     "execution_count": 32,
     "metadata": {},
     "output_type": "execute_result"
    }
   ],
   "source": [
    "classes[y_classes[3]]"
   ]
  },
  {
   "cell_type": "raw",
   "id": "484d4222",
   "metadata": {},
   "source": [
    "# Image Classification using Convolutional Neural Networks (CNN)\n",
    "\n",
    "## Introduction\n",
    "\n",
    "Image classification is a fundamental task in computer vision that involves categorizing images into predefined classes. Convolutional Neural Networks (CNN) are widely used for image classification tasks due to their ability to capture spatial patterns and hierarchies in image data. This project focuses on image classification using CNN with the CIFAR-10 dataset, a popular benchmark dataset in the field of computer vision.\n",
    "\n",
    "## Dataset\n",
    "\n",
    "The CIFAR-10 dataset consists of 60,000 32x32 color images in 10 classes, with 6,000 images per class. The dataset is divided into 50,000 training images and 10,000 test images. The classes include objects such as airplanes, automobiles, birds, cats, and more. The dataset is widely used for benchmarking image classification algorithms and evaluating model performance.\n",
    "\n",
    "## Methodology\n",
    "\n",
    "The project follows the following steps to perform image classification using CNN:\n",
    "\n",
    "1. Data Preprocessing: The CIFAR-10 dataset is preprocessed by normalizing the pixel values to a range of 0 to 1. This ensures that the data is in a consistent format and helps with model convergence.\n",
    "\n",
    "2. Model Architecture: A CNN model is constructed using TensorFlow, a popular deep learning framework. The architecture typically includes a combination of convolutional layers, pooling layers, and fully connected layers. Activation functions such as ReLU are applied to introduce non-linearity in the model.\n",
    "\n",
    "3. Model Training: The CNN model is trained using the preprocessed training dataset. The training process involves forward propagation, backpropagation, and weight optimization using gradient descent algorithms. The model is iteratively trained on the data to minimize the prediction error.\n",
    "\n",
    "4. Model Evaluation: The trained model is evaluated using the preprocessed testing dataset. Evaluation metrics such as accuracy, precision, recall, and F1-score are calculated to assess the model's performance in classifying the test images.\n",
    "\n",
    "5. Prediction: The trained model can be used to classify new, unseen images. The input image needs to be preprocessed in the same manner as the training data before being fed into the model. The model outputs a probability distribution over the classes, indicating the likelihood of each class for the given image.\n",
    "\n",
    "\n",
    "## Conclusion\n",
    "\n",
    "The Image Classification using Convolutional Neural Networks (CNN) project demonstrates the application of deep learning techniques for image classification tasks. By training a CNN model on the CIFAR-10 dataset, we can accurately classify images into their respective classes. The project provides a foundation for further research and development in computer vision and deep learning."
   ]
  }
 ],
 "metadata": {
  "kernelspec": {
   "display_name": "Python 3 (ipykernel)",
   "language": "python",
   "name": "python3"
  },
  "language_info": {
   "codemirror_mode": {
    "name": "ipython",
    "version": 3
   },
   "file_extension": ".py",
   "mimetype": "text/x-python",
   "name": "python",
   "nbconvert_exporter": "python",
   "pygments_lexer": "ipython3",
   "version": "3.9.12"
  }
 },
 "nbformat": 4,
 "nbformat_minor": 5
}
